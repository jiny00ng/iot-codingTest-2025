{
 "cells": [
  {
   "cell_type": "markdown",
   "id": "d1cd0641",
   "metadata": {},
   "source": [
    "## 배열\n",
    "\n",
    "### 배열 선언\n",
    "\n",
    "### 일반적인 배열 선언"
   ]
  },
  {
   "cell_type": "code",
   "execution_count": 3,
   "id": "9775a9fe",
   "metadata": {},
   "outputs": [
    {
     "data": {
      "text/plain": [
       "[0, 0, 0, 0, 0, 0]"
      ]
     },
     "execution_count": 3,
     "metadata": {},
     "output_type": "execute_result"
    }
   ],
   "source": [
    "arr1 = [0, 0, 0, 0, 0, 0,]\n",
    "arr1"
   ]
  },
  {
   "cell_type": "code",
   "execution_count": 2,
   "id": "375aacc1",
   "metadata": {},
   "outputs": [
    {
     "data": {
      "text/plain": [
       "[0, 0, 0, 0, 0, 0]"
      ]
     },
     "execution_count": 2,
     "metadata": {},
     "output_type": "execute_result"
    }
   ],
   "source": [
    "arr2 = [0] * 6\n",
    "arr2"
   ]
  },
  {
   "cell_type": "markdown",
   "id": "bd389e52",
   "metadata": {},
   "source": [
    "#### 리스트 생성자 사용"
   ]
  },
  {
   "cell_type": "code",
   "execution_count": null,
   "id": "7c81524b",
   "metadata": {},
   "outputs": [
    {
     "data": {
      "text/plain": [
       "[0, 1, 2, 3, 4, 5]"
      ]
     },
     "execution_count": 4,
     "metadata": {},
     "output_type": "execute_result"
    }
   ],
   "source": [
    "arr3 = list(range(6))       # list로 형변환\n",
    "arr3"
   ]
  },
  {
   "cell_type": "markdown",
   "id": "08854247",
   "metadata": {},
   "source": [
    "#### 리스트 컴프리헨션"
   ]
  },
  {
   "cell_type": "code",
   "execution_count": 5,
   "id": "50ec6d27",
   "metadata": {},
   "outputs": [
    {
     "data": {
      "text/plain": [
       "[0, 1, 2, 3, 4, 5]"
      ]
     },
     "execution_count": 5,
     "metadata": {},
     "output_type": "execute_result"
    }
   ],
   "source": [
    "arr4 = [x for x in range(6)]\n",
    "arr4"
   ]
  },
  {
   "cell_type": "code",
   "execution_count": 10,
   "id": "f372f344",
   "metadata": {},
   "outputs": [
    {
     "data": {
      "text/plain": [
       "[0, 0, 0, 0, 0, 0]"
      ]
     },
     "execution_count": 10,
     "metadata": {},
     "output_type": "execute_result"
    }
   ],
   "source": [
    "# 어차피 사용하지 않는 변수라면 _(사용하지 않는 변수)로 변경하라\n",
    "arr5 = [0 for _ in range(6)]\n",
    "arr5"
   ]
  },
  {
   "cell_type": "code",
   "execution_count": 12,
   "id": "8e3c4548",
   "metadata": {},
   "outputs": [
    {
     "data": {
      "text/plain": [
       "15"
      ]
     },
     "execution_count": 12,
     "metadata": {},
     "output_type": "execute_result"
    }
   ],
   "source": [
    "arr4[0] + arr4[1] + arr4[2] + arr4[3] + arr4[4] + arr4[5]"
   ]
  },
  {
   "cell_type": "markdown",
   "id": "fd55c062",
   "metadata": {},
   "source": [
    "### 2차원 배열"
   ]
  },
  {
   "cell_type": "code",
   "execution_count": null,
   "id": "6486c211",
   "metadata": {},
   "outputs": [
    {
     "data": {
      "text/plain": [
       "[[1, 2, 3, 4], [5, 6, 7, 8], [9, 10, 11, 12]]"
      ]
     },
     "execution_count": 13,
     "metadata": {},
     "output_type": "execute_result"
    }
   ],
   "source": [
    "# 선언\n",
    "arr6 = [[1,2,3,4],[5,6,7,8],[9,10,11,12]]   # 전체 3 x 4 배열\n",
    "arr6"
   ]
  },
  {
   "cell_type": "code",
   "execution_count": 15,
   "id": "51bb0587",
   "metadata": {},
   "outputs": [
    {
     "data": {
      "text/plain": [
       "[1, 2, 3, 4]"
      ]
     },
     "execution_count": 15,
     "metadata": {},
     "output_type": "execute_result"
    }
   ],
   "source": [
    "arr6[0]     # 0번 행 값들 전부"
   ]
  },
  {
   "cell_type": "code",
   "execution_count": 16,
   "id": "002413b0",
   "metadata": {},
   "outputs": [
    {
     "data": {
      "text/plain": [
       "4"
      ]
     },
     "execution_count": 16,
     "metadata": {},
     "output_type": "execute_result"
    }
   ],
   "source": [
    "arr6[0][3]  # 0행 3열 값"
   ]
  },
  {
   "cell_type": "code",
   "execution_count": 17,
   "id": "483b7848",
   "metadata": {},
   "outputs": [
    {
     "data": {
      "text/plain": [
       "[[1, 2, 3, 4], [5, 6, 7, 8], [9, 10, 11, 19]]"
      ]
     },
     "execution_count": 17,
     "metadata": {},
     "output_type": "execute_result"
    }
   ],
   "source": [
    "arr6[2][3] = 19\n",
    "arr6"
   ]
  },
  {
   "cell_type": "markdown",
   "id": "95c8cdef",
   "metadata": {},
   "source": [
    "### 리스트 컴프리헨션"
   ]
  },
  {
   "cell_type": "code",
   "execution_count": 19,
   "id": "4969d890",
   "metadata": {},
   "outputs": [
    {
     "data": {
      "text/plain": [
       "[[1, 1, 1, 1], [2, 2, 2, 2], [3, 3, 3, 3]]"
      ]
     },
     "execution_count": 19,
     "metadata": {},
     "output_type": "execute_result"
    }
   ],
   "source": [
    "arr7 = [[i+1]*4 for i in range(3)]\n",
    "arr7"
   ]
  },
  {
   "cell_type": "code",
   "execution_count": 21,
   "id": "4185a57d",
   "metadata": {},
   "outputs": [
    {
     "data": {
      "text/plain": [
       "[[1, 2, 3, 4], [5, 6, 7, 8], [9, 10, 11, 12]]"
      ]
     },
     "execution_count": 21,
     "metadata": {},
     "output_type": "execute_result"
    }
   ],
   "source": [
    "arr7 = [[x for x in range(1 + y * 4, 5 + y * 4)] for y in range(3)]\n",
    "arr7"
   ]
  },
  {
   "cell_type": "code",
   "execution_count": 22,
   "id": "832d5433",
   "metadata": {},
   "outputs": [
    {
     "data": {
      "text/plain": [
       "[1, 2, 3, 4]"
      ]
     },
     "execution_count": 22,
     "metadata": {},
     "output_type": "execute_result"
    }
   ],
   "source": [
    "[x for x in range(1,5)]"
   ]
  },
  {
   "cell_type": "markdown",
   "id": "3012c3d8",
   "metadata": {},
   "source": [
    "### 배열 시간 복잡도\n",
    "\n",
    "- 배열 요소에 접근하는 시간복잡도 : $ O (1) $. 소요시간이 전혀 걸리지 않음\n",
    "- 배열에 맨 처음이나 중간에 삽입하는 시간 복잡도 : $ O (n) $\n",
    "- 배열에 맨 처음이나 중간에 삭제하는 시간 복잡도 : $ O (n) $\n",
    "\n",
    "#### 배열 선택시 고려할 점\n",
    "\n",
    "- 할당할 메모리 크기 확인. 1차원 배열 최대 1000만개 2차원 배열 3000 * 3000 (900만개)\n",
    "- 중간에 데이터 삽입이 많으면 시간복잡도가 높아짐"
   ]
  },
  {
   "cell_type": "markdown",
   "id": "0c9d8b01",
   "metadata": {},
   "source": [
    "### 자주 사용하는 리스트 문법"
   ]
  },
  {
   "cell_type": "markdown",
   "id": "e8def77c",
   "metadata": {},
   "source": [
    "#### append() 메서드로 데이터 추가"
   ]
  },
  {
   "cell_type": "code",
   "execution_count": 34,
   "id": "1dc1fa1e",
   "metadata": {},
   "outputs": [],
   "source": [
    "my_list = [1,2,3]\n",
    "my_list.append(4)"
   ]
  },
  {
   "cell_type": "code",
   "execution_count": 24,
   "id": "92ece302",
   "metadata": {},
   "outputs": [
    {
     "data": {
      "text/plain": [
       "[1, 2, 3, 4]"
      ]
     },
     "execution_count": 24,
     "metadata": {},
     "output_type": "execute_result"
    }
   ],
   "source": [
    "my_list"
   ]
  },
  {
   "cell_type": "markdown",
   "id": "99198991",
   "metadata": {},
   "source": [
    "#### + 연산자 사용"
   ]
  },
  {
   "cell_type": "code",
   "execution_count": 35,
   "id": "4f18e2af",
   "metadata": {},
   "outputs": [
    {
     "data": {
      "text/plain": [
       "[1, 2, 3, 4, 5, 6]"
      ]
     },
     "execution_count": 35,
     "metadata": {},
     "output_type": "execute_result"
    }
   ],
   "source": [
    "my_list = my_list + [5,6]\n",
    "my_list"
   ]
  },
  {
   "cell_type": "markdown",
   "id": "fa4ab8aa",
   "metadata": {},
   "source": [
    "#### insert() 함수 사용"
   ]
  },
  {
   "cell_type": "code",
   "execution_count": 36,
   "id": "196d8ae9",
   "metadata": {},
   "outputs": [
    {
     "data": {
      "text/plain": [
       "[1, 2, 3, 999, 4, 5, 6]"
      ]
     },
     "execution_count": 36,
     "metadata": {},
     "output_type": "execute_result"
    }
   ],
   "source": [
    "my_list.insert(3, 999)\n",
    "my_list"
   ]
  },
  {
   "cell_type": "markdown",
   "id": "d3b64689",
   "metadata": {},
   "source": [
    "#### pop() 함수로 데이터 추출"
   ]
  },
  {
   "cell_type": "code",
   "execution_count": 37,
   "id": "5050bd0b",
   "metadata": {},
   "outputs": [
    {
     "data": {
      "text/plain": [
       "6"
      ]
     },
     "execution_count": 37,
     "metadata": {},
     "output_type": "execute_result"
    }
   ],
   "source": [
    "my_list.pop()"
   ]
  },
  {
   "cell_type": "code",
   "execution_count": 28,
   "id": "e060bce3",
   "metadata": {},
   "outputs": [
    {
     "data": {
      "text/plain": [
       "[1, 2, 3, 999, 4, 5]"
      ]
     },
     "execution_count": 28,
     "metadata": {},
     "output_type": "execute_result"
    }
   ],
   "source": [
    "my_list"
   ]
  },
  {
   "cell_type": "code",
   "execution_count": 38,
   "id": "6d5d435b",
   "metadata": {},
   "outputs": [
    {
     "data": {
      "text/plain": [
       "999"
      ]
     },
     "execution_count": 38,
     "metadata": {},
     "output_type": "execute_result"
    }
   ],
   "source": [
    "my_list.pop(3)"
   ]
  },
  {
   "cell_type": "code",
   "execution_count": 33,
   "id": "ee7933d5",
   "metadata": {},
   "outputs": [
    {
     "data": {
      "text/plain": [
       "[1, 2, 4, 5]"
      ]
     },
     "execution_count": 33,
     "metadata": {},
     "output_type": "execute_result"
    }
   ],
   "source": [
    "my_list"
   ]
  },
  {
   "cell_type": "markdown",
   "id": "62d5ecff",
   "metadata": {},
   "source": [
    "#### remove()로 데이터 삭제"
   ]
  },
  {
   "cell_type": "code",
   "execution_count": null,
   "id": "b27588c2",
   "metadata": {},
   "outputs": [],
   "source": [
    "my_list.remove(3)   # list에서 3을 지운다"
   ]
  },
  {
   "cell_type": "code",
   "execution_count": 40,
   "id": "9c998bb8",
   "metadata": {},
   "outputs": [
    {
     "data": {
      "text/plain": [
       "[1, 2, 4, 5]"
      ]
     },
     "execution_count": 40,
     "metadata": {},
     "output_type": "execute_result"
    }
   ],
   "source": [
    "my_list"
   ]
  },
  {
   "cell_type": "markdown",
   "id": "9ea42765",
   "metadata": {},
   "source": [
    "#### 많이 사용하는 문법"
   ]
  },
  {
   "cell_type": "code",
   "execution_count": 41,
   "id": "76d236ae",
   "metadata": {},
   "outputs": [],
   "source": [
    "fruits = ['apple', 'banana', 'cherry', 'apple', 'orange', 'banana', 'kiwi']"
   ]
  },
  {
   "cell_type": "code",
   "execution_count": 42,
   "id": "08172057",
   "metadata": {},
   "outputs": [
    {
     "data": {
      "text/plain": [
       "7"
      ]
     },
     "execution_count": 42,
     "metadata": {},
     "output_type": "execute_result"
    }
   ],
   "source": [
    "len(fruits)"
   ]
  },
  {
   "cell_type": "code",
   "execution_count": 43,
   "id": "0c4fa6f7",
   "metadata": {},
   "outputs": [
    {
     "data": {
      "text/plain": [
       "1"
      ]
     },
     "execution_count": 43,
     "metadata": {},
     "output_type": "execute_result"
    }
   ],
   "source": [
    "fruits.index('banana')"
   ]
  },
  {
   "cell_type": "code",
   "execution_count": 46,
   "id": "7b62cb9a",
   "metadata": {},
   "outputs": [
    {
     "data": {
      "text/plain": [
       "5"
      ]
     },
     "execution_count": 46,
     "metadata": {},
     "output_type": "execute_result"
    }
   ],
   "source": [
    "fruits.index('banana', 2)"
   ]
  },
  {
   "cell_type": "code",
   "execution_count": 47,
   "id": "3d1a73a4",
   "metadata": {},
   "outputs": [
    {
     "data": {
      "text/plain": [
       "['apple', 'apple', 'banana', 'banana', 'cherry', 'kiwi', 'orange']"
      ]
     },
     "execution_count": 47,
     "metadata": {},
     "output_type": "execute_result"
    }
   ],
   "source": [
    "fruits.sort()\n",
    "fruits"
   ]
  },
  {
   "cell_type": "code",
   "execution_count": 48,
   "id": "4f67fb65",
   "metadata": {},
   "outputs": [
    {
     "data": {
      "text/plain": [
       "['orange', 'kiwi', 'cherry', 'banana', 'banana', 'apple', 'apple']"
      ]
     },
     "execution_count": 48,
     "metadata": {},
     "output_type": "execute_result"
    }
   ],
   "source": [
    "fruits.sort(reverse=True)\n",
    "fruits"
   ]
  },
  {
   "cell_type": "code",
   "execution_count": 49,
   "id": "72086c2b",
   "metadata": {},
   "outputs": [
    {
     "data": {
      "text/plain": [
       "2"
      ]
     },
     "execution_count": 49,
     "metadata": {},
     "output_type": "execute_result"
    }
   ],
   "source": [
    "fruits.count('apple')"
   ]
  },
  {
   "cell_type": "markdown",
   "id": "8949728d",
   "metadata": {},
   "source": [
    "### 몸풀기 문제"
   ]
  },
  {
   "cell_type": "markdown",
   "id": "922984d0",
   "metadata": {},
   "source": [
    "#### 배열 정렬하기\n",
    "\n",
    "|입력|출력|\n",
    "|:--|:--|\n",
    "|[1,-5,2,4,3]|[-5,1,2,4,3]|\n",
    "|[2,1,1,3,2,5,4]|[1, 1, 2, 2, 3, 4, 5]|\n",
    "|[6,1,7]|[1,6,7]|"
   ]
  },
  {
   "cell_type": "code",
   "execution_count": 6,
   "id": "e3d50173",
   "metadata": {},
   "outputs": [],
   "source": [
    "def solution(arr):\n",
    "    result = []\n",
    "    return result"
   ]
  },
  {
   "cell_type": "code",
   "execution_count": null,
   "id": "2d07a4ec",
   "metadata": {},
   "outputs": [],
   "source": [
    "# 기본 정렬\n",
    "def solution(arr):\n",
    "    arr.sort()\n",
    "    return arr"
   ]
  },
  {
   "cell_type": "code",
   "execution_count": null,
   "id": "aa94ec11",
   "metadata": {},
   "outputs": [
    {
     "data": {
      "text/plain": [
       "[1, 1, 2, 2, 3, 4, 5]"
      ]
     },
     "execution_count": 10,
     "metadata": {},
     "output_type": "execute_result"
    }
   ],
   "source": [
    "# arr1 = [1,-5,2,4,3]\n",
    "arr1 = [2,1,1,3,2,5,4]\n",
    "# arr1= [6,1,7]\n",
    "\n",
    "solution(arr1)"
   ]
  },
  {
   "cell_type": "code",
   "execution_count": 7,
   "id": "ea129244",
   "metadata": {},
   "outputs": [],
   "source": [
    "# 원본은 보존하고 작업\n",
    "def solution(arr):\n",
    "    answer = sorted(arr, reverse=False)\n",
    "    return answer"
   ]
  },
  {
   "cell_type": "markdown",
   "id": "1c471939",
   "metadata": {},
   "source": [
    "#### sort() 함수 사용않고 정렬알고리즘 구현\n",
    "- $ O(n^2) $ 시간복잡도"
   ]
  },
  {
   "cell_type": "code",
   "execution_count": null,
   "id": "cbd061cb",
   "metadata": {},
   "outputs": [],
   "source": [
    "import time\n",
    "\n",
    "def bubble_sort(arr):   # 버블정렬\n",
    "    n = len(arr)\n",
    "    for i in range(n):\n",
    "        for j in range(n - i -1):   # 한번 돌고 나면 맨처음 요소는 뛰어넘고 정렬 계속\n",
    "            if arr[j] > arr[j + 1]:\n",
    "                arr[j], arr[j + 1] = arr[j + 1], arr[j]     # 파이썬에서 temp를 만들지 않고 swap 가능한 방법\n",
    "    \n",
    "    return arr\n",
    "\n",
    "def do_sort(arr):   # sort() 사용\n",
    "    arr.sort()\n",
    "    return arr\n",
    "\n",
    "def measure_time(func, arr):    # 시간 측정 함수\n",
    "    start_time = time.time()    # 시작시간 저장\n",
    "    result = func(arr)      # 함수 실행\n",
    "    end_time = time.time()  # 함수 종료 시간 저장\n",
    "\n",
    "    return end_time - start_time, result\n",
    "\n",
    "arr =list(range(10000))"
   ]
  },
  {
   "cell_type": "code",
   "execution_count": 15,
   "id": "15dd7da4",
   "metadata": {},
   "outputs": [],
   "source": [
    "arr.sort(reverse=True)"
   ]
  },
  {
   "cell_type": "markdown",
   "id": "198a5319",
   "metadata": {},
   "source": [
    "##### 버블소트 시간측정"
   ]
  },
  {
   "cell_type": "code",
   "execution_count": 16,
   "id": "d6153fca",
   "metadata": {},
   "outputs": [
    {
     "name": "stdout",
     "output_type": "stream",
     "text": [
      "첫 번째 코드 실행시간: 5.3593802452\n"
     ]
    }
   ],
   "source": [
    "bubble_time, bubbel_result = measure_time(bubble_sort, arr)\n",
    "print(\"첫 번째 코드 실행시간:\", format(bubble_time, \".10f\"))"
   ]
  },
  {
   "cell_type": "code",
   "execution_count": 18,
   "id": "e24cac54",
   "metadata": {},
   "outputs": [
    {
     "data": {
      "text/plain": [
       "10000"
      ]
     },
     "execution_count": 18,
     "metadata": {},
     "output_type": "execute_result"
    }
   ],
   "source": [
    "len(bubbel_result)"
   ]
  },
  {
   "cell_type": "markdown",
   "id": "ceba65dd",
   "metadata": {},
   "source": [
    "- 1~9999까지 정렬된 상태에서 버블소트 실행 1.6초 정도 소요\n",
    "- 내림차순으로 역정렬된 상태에서 버블소트 실행 시 5.36초 소요"
   ]
  },
  {
   "cell_type": "markdown",
   "id": "ffe06cd3",
   "metadata": {},
   "source": [
    "##### 내장 소트 시간측정"
   ]
  },
  {
   "cell_type": "code",
   "execution_count": 19,
   "id": "a7716371",
   "metadata": {},
   "outputs": [],
   "source": [
    "arr = list(range(10000))\n",
    "arr.sort(reverse=True)"
   ]
  },
  {
   "cell_type": "code",
   "execution_count": 20,
   "id": "85d3db39",
   "metadata": {},
   "outputs": [],
   "source": [
    "sort_time, sort_result = measure_time(do_sort, arr)"
   ]
  },
  {
   "cell_type": "code",
   "execution_count": 22,
   "id": "6179f862",
   "metadata": {},
   "outputs": [
    {
     "data": {
      "text/plain": [
       "'내장소트 실행시간 : 0.000000000000000000000000000000000000000000000000000000000000000000000000000000000000000000'"
      ]
     },
     "execution_count": 22,
     "metadata": {},
     "output_type": "execute_result"
    }
   ],
   "source": [
    "f\"내장소트 실행시간 : {sort_time:.90f}\""
   ]
  },
  {
   "cell_type": "markdown",
   "id": "1485a83f",
   "metadata": {},
   "source": [
    "### 모의 테스트\n",
    "\n",
    "- 공부할 때 사용하는 방법 VS Code. 실제 코테 환경에서는 불가능! 프로그래머스에서 바로 구현(디버깅 불가, 코드어시스턴스 사용불가)\n",
    "\n",
    "#### 두개 뽑아서 더하기\n",
    "\n",
    "- https://school.programmers.co.kr/learn/courses/30/lessons/68644"
   ]
  },
  {
   "cell_type": "code",
   "execution_count": 25,
   "id": "742b1164",
   "metadata": {},
   "outputs": [],
   "source": [
    "data = [5, 0, 2, 7]"
   ]
  },
  {
   "cell_type": "code",
   "execution_count": 32,
   "id": "263e9cd3",
   "metadata": {},
   "outputs": [],
   "source": [
    "def solution(numbers):\n",
    "    answer = []     # 빈 배열이 기생성\n",
    "    # 두 수를 선택해서 모든 경우의 수를 반복문으로 구함\n",
    "    for i in range(len(numbers)):\n",
    "        for j in range(i+1, len(numbers)):\n",
    "            # i 인덱스와 j 인덱스의 값을 더해서 answer에 저장\n",
    "            answer.append(numbers[i] + numbers[j])\n",
    "    \n",
    "    # 중복값 제거\n",
    "    answer = sorted(set(answer))\n",
    "\n",
    "    return answer"
   ]
  },
  {
   "cell_type": "code",
   "execution_count": 34,
   "id": "d1c67f46",
   "metadata": {},
   "outputs": [
    {
     "data": {
      "text/plain": [
       "[2, 3, 4, 5, 6, 7]"
      ]
     },
     "execution_count": 34,
     "metadata": {},
     "output_type": "execute_result"
    }
   ],
   "source": [
    "solution([2,1,3,4,1])"
   ]
  },
  {
   "cell_type": "markdown",
   "id": "a2e633cf",
   "metadata": {},
   "source": [
    "#### 방문길이\n",
    "\n",
    "- https://school.programmers.co.kr/learn/courses/30/lessons/49994"
   ]
  },
  {
   "cell_type": "code",
   "execution_count": 35,
   "id": "a1a41eca",
   "metadata": {},
   "outputs": [],
   "source": [
    "# 'ULURRDLLU'\n",
    "# 'LULLLLLLU'"
   ]
  },
  {
   "cell_type": "code",
   "execution_count": null,
   "id": "3da80272",
   "metadata": {},
   "outputs": [],
   "source": [
    "# 좌표가 맵을 벗어나지 않았는지 확인하는 함수\n",
    "def is_ok_in_map(nx, ny):\n",
    "    # 맵의 좌표 범위는 0부터 10까지 (총 11칸)\n",
    "    # 두 좌표(nx, ny)가 모두 0 이상 11 미만이면 True 반환\n",
    "    return 0 <= nx < 11 and 0 <= ny < 11\n",
    "\n",
    "# 방향(dir)에 따라 현재 좌표(x, y)를 이동시키는 함수\n",
    "def move_position(dir, x, y):\n",
    "    # dir 값에 따라 좌표를 이동시킴\n",
    "    if dir.upper() == 'U':   # 위로 이동 (y 증가)\n",
    "        nx, ny = x, y + 1\n",
    "    elif dir.upper() == 'D': # 아래로 이동 (y 감소)\n",
    "        nx, ny = x, y - 1\n",
    "    elif dir.upper() == 'L': # 왼쪽으로 이동 (x 감소)\n",
    "        nx, ny = x - 1, y\n",
    "    elif dir.upper() == 'R': # 오른쪽으로 이동 (x 증가)\n",
    "        nx, ny = x + 1, y\n",
    "    return nx, ny\n",
    "\n",
    "# 고유한 경로의 개수를 구하는 함수\n",
    "def solution(dirs):\n",
    "    x, y = 5, 5     # 시작 위치를 (5,5)로 설정 (중앙)\n",
    "    answer = set()  # 이동 경로를 저장할 set (중복 제거용)\n",
    "\n",
    "    # 주어진 방향 문자열을 하나씩 처리\n",
    "    for dir in dirs:  # 예: 'LULLLLLLU'\n",
    "        # 현재 위치(x, y)에서 방향(dir)으로 이동한 좌표 계산\n",
    "        nx, ny = move_position(dir, x, y)\n",
    "\n",
    "        # 이동한 좌표가 맵 범위 내에 있는 경우만 처리\n",
    "        if is_ok_in_map(nx, ny):\n",
    "            # (x, y) → (nx, ny) 이동 경로 저장\n",
    "            answer.add((x, y, nx, ny))\n",
    "            # (nx, ny) → (x, y)도 같은 경로로 간주하여 함께 저장\n",
    "            answer.add((nx, ny, x, y))\n",
    "            # 현재 위치를 이동한 위치로 업데이트\n",
    "            x, y = nx, ny\n",
    "        else:\n",
    "            # 맵을 벗어나는 경우는 무시하고 다음 방향 처리\n",
    "            continue\n",
    "\n",
    "    # 양방향 경로가 저장되어 있으므로 전체 개수의 절반을 반환\n",
    "    return len(answer) / 2  # 또는 정수 반환 원할 경우 // 2"
   ]
  },
  {
   "cell_type": "code",
   "execution_count": 37,
   "id": "6c8bd090",
   "metadata": {},
   "outputs": [
    {
     "data": {
      "text/plain": [
       "7.0"
      ]
     },
     "execution_count": 37,
     "metadata": {},
     "output_type": "execute_result"
    }
   ],
   "source": [
    "solution('LULLLLLLU')"
   ]
  }
 ],
 "metadata": {
  "kernelspec": {
   "display_name": "3.11.9",
   "language": "python",
   "name": "python3"
  },
  "language_info": {
   "codemirror_mode": {
    "name": "ipython",
    "version": 3
   },
   "file_extension": ".py",
   "mimetype": "text/x-python",
   "name": "python",
   "nbconvert_exporter": "python",
   "pygments_lexer": "ipython3",
   "version": "3.11.9"
  }
 },
 "nbformat": 4,
 "nbformat_minor": 5
}
