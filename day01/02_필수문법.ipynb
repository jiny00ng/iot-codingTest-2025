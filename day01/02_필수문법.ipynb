{
 "cells": [
  {
   "cell_type": "markdown",
   "id": "f3425afb",
   "metadata": {},
   "source": [
    "## 변수형"
   ]
  },
  {
   "cell_type": "code",
   "execution_count": 13,
   "id": "c0b7a655",
   "metadata": {},
   "outputs": [],
   "source": [
    "## 정수형\n",
    "a = 13\n",
    "b = 4"
   ]
  },
  {
   "cell_type": "code",
   "execution_count": 2,
   "id": "dbee717a",
   "metadata": {},
   "outputs": [
    {
     "data": {
      "text/plain": [
       "3.25"
      ]
     },
     "execution_count": 2,
     "metadata": {},
     "output_type": "execute_result"
    }
   ],
   "source": [
    "a / b"
   ]
  },
  {
   "cell_type": "code",
   "execution_count": 3,
   "id": "dc686df0",
   "metadata": {},
   "outputs": [
    {
     "data": {
      "text/plain": [
       "3"
      ]
     },
     "execution_count": 3,
     "metadata": {},
     "output_type": "execute_result"
    }
   ],
   "source": [
    "a // b"
   ]
  },
  {
   "cell_type": "code",
   "execution_count": 4,
   "id": "a91320c9",
   "metadata": {},
   "outputs": [
    {
     "data": {
      "text/plain": [
       "1"
      ]
     },
     "execution_count": 4,
     "metadata": {},
     "output_type": "execute_result"
    }
   ],
   "source": [
    "a % b"
   ]
  },
  {
   "cell_type": "code",
   "execution_count": 5,
   "id": "26045dbb",
   "metadata": {},
   "outputs": [
    {
     "data": {
      "text/plain": [
       "False"
      ]
     },
     "execution_count": 5,
     "metadata": {},
     "output_type": "execute_result"
    }
   ],
   "source": [
    "a == b"
   ]
  },
  {
   "cell_type": "code",
   "execution_count": 6,
   "id": "ccd6bfd5",
   "metadata": {},
   "outputs": [
    {
     "name": "stdout",
     "output_type": "stream",
     "text": [
      "28561\n"
     ]
    }
   ],
   "source": [
    "print(a**b)"
   ]
  },
  {
   "cell_type": "code",
   "execution_count": 7,
   "id": "cb11bef8",
   "metadata": {},
   "outputs": [
    {
     "data": {
      "text/plain": [
       "4"
      ]
     },
     "execution_count": 7,
     "metadata": {},
     "output_type": "execute_result"
    }
   ],
   "source": [
    "## 정수형 비트 연산\n",
    "## 13 -> 1101 / 4 -> 0100\n",
    "\n",
    "a & b   # 0100"
   ]
  },
  {
   "cell_type": "code",
   "execution_count": 9,
   "id": "2a7c6747",
   "metadata": {},
   "outputs": [
    {
     "data": {
      "text/plain": [
       "9"
      ]
     },
     "execution_count": 9,
     "metadata": {},
     "output_type": "execute_result"
    }
   ],
   "source": [
    "a ^ b   # 1001"
   ]
  },
  {
   "cell_type": "code",
   "execution_count": 10,
   "id": "4480656d",
   "metadata": {},
   "outputs": [
    {
     "data": {
      "text/plain": [
       "-14"
      ]
     },
     "execution_count": 10,
     "metadata": {},
     "output_type": "execute_result"
    }
   ],
   "source": [
    "~a"
   ]
  },
  {
   "cell_type": "code",
   "execution_count": null,
   "id": "c9b26d50",
   "metadata": {},
   "outputs": [
    {
     "data": {
      "text/plain": [
       "52"
      ]
     },
     "execution_count": 11,
     "metadata": {},
     "output_type": "execute_result"
    }
   ],
   "source": [
    "a << 2  ## 110100"
   ]
  },
  {
   "cell_type": "code",
   "execution_count": 12,
   "id": "f121923b",
   "metadata": {},
   "outputs": [
    {
     "data": {
      "text/plain": [
       "False"
      ]
     },
     "execution_count": 12,
     "metadata": {},
     "output_type": "execute_result"
    }
   ],
   "source": [
    "not a"
   ]
  },
  {
   "cell_type": "code",
   "execution_count": 14,
   "id": "e1c1ec8a",
   "metadata": {},
   "outputs": [
    {
     "data": {
      "text/plain": [
       "6.2"
      ]
     },
     "execution_count": 14,
     "metadata": {},
     "output_type": "execute_result"
    }
   ],
   "source": [
    "## 부동소수형\n",
    "2.5 + 3.7"
   ]
  },
  {
   "cell_type": "code",
   "execution_count": 17,
   "id": "cca610c8",
   "metadata": {},
   "outputs": [
    {
     "data": {
      "text/plain": [
       "3.1562499999999996"
      ]
     },
     "execution_count": 17,
     "metadata": {},
     "output_type": "execute_result"
    }
   ],
   "source": [
    "10.1 / 3.2"
   ]
  },
  {
   "cell_type": "code",
   "execution_count": 15,
   "id": "b47fa74b",
   "metadata": {},
   "outputs": [
    {
     "data": {
      "text/plain": [
       "3.0"
      ]
     },
     "execution_count": 15,
     "metadata": {},
     "output_type": "execute_result"
    }
   ],
   "source": [
    "10.1 // 3.2"
   ]
  },
  {
   "cell_type": "code",
   "execution_count": 16,
   "id": "0023acac",
   "metadata": {},
   "outputs": [
    {
     "data": {
      "text/plain": [
       "0.4999999999999991"
      ]
     },
     "execution_count": 16,
     "metadata": {},
     "output_type": "execute_result"
    }
   ],
   "source": [
    "10.1 % 3.2"
   ]
  },
  {
   "cell_type": "markdown",
   "id": "a611dc55",
   "metadata": {},
   "source": [
    "### 엡실론을 포함한 연산\n",
    "- 0.1을 3번 더한 값에 0.3으로 빼면?"
   ]
  },
  {
   "cell_type": "code",
   "execution_count": 19,
   "id": "bda91be9",
   "metadata": {},
   "outputs": [],
   "source": [
    "c = 0.1"
   ]
  },
  {
   "cell_type": "code",
   "execution_count": 21,
   "id": "f0a56d68",
   "metadata": {},
   "outputs": [
    {
     "data": {
      "text/plain": [
       "5.551115123125783e-17"
      ]
     },
     "execution_count": 21,
     "metadata": {},
     "output_type": "execute_result"
    }
   ],
   "source": [
    "c + c + c - 0.3"
   ]
  },
  {
   "cell_type": "code",
   "execution_count": 23,
   "id": "c467ca44",
   "metadata": {},
   "outputs": [
    {
     "data": {
      "text/plain": [
       "2.220446049250313e-16"
      ]
     },
     "execution_count": 23,
     "metadata": {},
     "output_type": "execute_result"
    }
   ],
   "source": [
    "import sys\n",
    "\n",
    "# 엡실론 출력\n",
    "sys.float_info.epsilon\n",
    "# 0.0000000000000002220446049250313"
   ]
  },
  {
   "cell_type": "code",
   "execution_count": 28,
   "id": "e9f81272",
   "metadata": {},
   "outputs": [],
   "source": [
    "d = 0.1 + 0.1 + 0.1\n",
    "e = 0.3"
   ]
  },
  {
   "cell_type": "code",
   "execution_count": 29,
   "id": "ca6e2a83",
   "metadata": {},
   "outputs": [
    {
     "data": {
      "text/plain": [
       "5.551115123125783e-17"
      ]
     },
     "execution_count": 29,
     "metadata": {},
     "output_type": "execute_result"
    }
   ],
   "source": [
    "d - e   # 0.00000000000000005551115123125783 의 오차 발생!"
   ]
  },
  {
   "cell_type": "code",
   "execution_count": 31,
   "id": "0fef30a1",
   "metadata": {},
   "outputs": [
    {
     "name": "stdout",
     "output_type": "stream",
     "text": [
      "동일 수\n"
     ]
    }
   ],
   "source": [
    "if abs(d - e) <= sys.float_info.epsilon:\n",
    "    print(\"동일 수\")\n",
    "else:\n",
    "    print(\"다른 수\") "
   ]
  },
  {
   "cell_type": "markdown",
   "id": "097b6124",
   "metadata": {},
   "source": [
    "\n",
    "### 컬렉션\n",
    "\n",
    "- 리스트, 튜플, 딕셔너리, 셋, 문자열 등\n",
    "- Mutable : 변경할 수 있는 객체\n",
    "- Immutable : 변경할 수 없는 객체, 문자열, 튜플"
   ]
  },
  {
   "cell_type": "markdown",
   "id": "9b46f1cf",
   "metadata": {},
   "source": [
    "#### 뮤터블"
   ]
  },
  {
   "cell_type": "code",
   "execution_count": 32,
   "id": "a68f1291",
   "metadata": {},
   "outputs": [
    {
     "data": {
      "text/plain": [
       "7"
      ]
     },
     "execution_count": 32,
     "metadata": {},
     "output_type": "execute_result"
    }
   ],
   "source": [
    "nlist = [1, 3, 5, 7, 9]\n",
    "nlist[3]"
   ]
  },
  {
   "cell_type": "code",
   "execution_count": 33,
   "id": "fc25a123",
   "metadata": {},
   "outputs": [],
   "source": [
    "nlist[3] = 8"
   ]
  },
  {
   "cell_type": "code",
   "execution_count": 34,
   "id": "a5549e43",
   "metadata": {},
   "outputs": [
    {
     "data": {
      "text/plain": [
       "[1, 3, 5, 8, 9]"
      ]
     },
     "execution_count": 34,
     "metadata": {},
     "output_type": "execute_result"
    }
   ],
   "source": [
    "nlist"
   ]
  },
  {
   "cell_type": "markdown",
   "id": "a2070e06",
   "metadata": {},
   "source": [
    "#### 이뮤터블"
   ]
  },
  {
   "cell_type": "code",
   "execution_count": 35,
   "id": "c803e138",
   "metadata": {},
   "outputs": [
    {
     "data": {
      "text/plain": [
       "7"
      ]
     },
     "execution_count": 35,
     "metadata": {},
     "output_type": "execute_result"
    }
   ],
   "source": [
    "ntuple = (1,3,5,7,9)\n",
    "ntuple[3]"
   ]
  },
  {
   "cell_type": "code",
   "execution_count": 48,
   "id": "c9d95591",
   "metadata": {},
   "outputs": [
    {
     "ename": "TypeError",
     "evalue": "'tuple' object does not support item assignment",
     "output_type": "error",
     "traceback": [
      "\u001b[1;31m---------------------------------------------------------------------------\u001b[0m",
      "\u001b[1;31mTypeError\u001b[0m                                 Traceback (most recent call last)",
      "Cell \u001b[1;32mIn[48], line 1\u001b[0m\n\u001b[1;32m----> 1\u001b[0m \u001b[43mntuple\u001b[49m\u001b[43m[\u001b[49m\u001b[38;5;241;43m3\u001b[39;49m\u001b[43m]\u001b[49m \u001b[38;5;241m=\u001b[39m \u001b[38;5;241m8\u001b[39m   \u001b[38;5;66;03m# 튜플은 값을 리스트처럼 변경할 수 없음\u001b[39;00m\n",
      "\u001b[1;31mTypeError\u001b[0m: 'tuple' object does not support item assignment"
     ]
    }
   ],
   "source": [
    "ntuple[3] = 8   # 튜플은 값을 리스트처럼 변경할 수 없음"
   ]
  },
  {
   "cell_type": "code",
   "execution_count": 45,
   "id": "87291642",
   "metadata": {},
   "outputs": [
    {
     "data": {
      "text/plain": [
       "'l'"
      ]
     },
     "execution_count": 45,
     "metadata": {},
     "output_type": "execute_result"
    }
   ],
   "source": [
    "mystring = \"Hello\"\n",
    "mystring[2]"
   ]
  },
  {
   "cell_type": "code",
   "execution_count": 49,
   "id": "a77cc5e3",
   "metadata": {},
   "outputs": [
    {
     "ename": "TypeError",
     "evalue": "'str' object does not support item assignment",
     "output_type": "error",
     "traceback": [
      "\u001b[1;31m---------------------------------------------------------------------------\u001b[0m",
      "\u001b[1;31mTypeError\u001b[0m                                 Traceback (most recent call last)",
      "Cell \u001b[1;32mIn[49], line 1\u001b[0m\n\u001b[1;32m----> 1\u001b[0m \u001b[43mmystring\u001b[49m\u001b[43m[\u001b[49m\u001b[38;5;241;43m4\u001b[39;49m\u001b[43m]\u001b[49m \u001b[38;5;241m=\u001b[39m \u001b[38;5;124m'\u001b[39m\u001b[38;5;124m'\u001b[39m    \u001b[38;5;66;03m# 문자열은 요소값을 변경할 수 없음\u001b[39;00m\n",
      "\u001b[1;31mTypeError\u001b[0m: 'str' object does not support item assignment"
     ]
    }
   ],
   "source": [
    "mystring[4] = ''    # 문자열은 요소값을 변경할 수 없음"
   ]
  },
  {
   "cell_type": "code",
   "execution_count": 47,
   "id": "a54c8a44",
   "metadata": {},
   "outputs": [
    {
     "data": {
      "text/plain": [
       "'Hell'"
      ]
     },
     "execution_count": 47,
     "metadata": {},
     "output_type": "execute_result"
    }
   ],
   "source": [
    "mystring[0:4]"
   ]
  },
  {
   "cell_type": "markdown",
   "id": "3b3773ac",
   "metadata": {},
   "source": [
    "### 리스트"
   ]
  },
  {
   "cell_type": "code",
   "execution_count": 50,
   "id": "dd530f88",
   "metadata": {},
   "outputs": [],
   "source": [
    "list1 = [1,2,3,4,5]\n",
    "list2 = [1,3,5] + [7,9]\n",
    "list3 = list(list1)"
   ]
  },
  {
   "cell_type": "code",
   "execution_count": 51,
   "id": "031583b5",
   "metadata": {},
   "outputs": [
    {
     "data": {
      "text/plain": [
       "[1, 2, 3, 4, 5]"
      ]
     },
     "execution_count": 51,
     "metadata": {},
     "output_type": "execute_result"
    }
   ],
   "source": [
    "list1"
   ]
  },
  {
   "cell_type": "code",
   "execution_count": 52,
   "id": "2cb382a5",
   "metadata": {},
   "outputs": [
    {
     "data": {
      "text/plain": [
       "[1, 3, 5, 7, 9]"
      ]
     },
     "execution_count": 52,
     "metadata": {},
     "output_type": "execute_result"
    }
   ],
   "source": [
    "list2"
   ]
  },
  {
   "cell_type": "code",
   "execution_count": 53,
   "id": "d912a098",
   "metadata": {},
   "outputs": [
    {
     "data": {
      "text/plain": [
       "[1, 2, 3, 4, 5]"
      ]
     },
     "execution_count": 53,
     "metadata": {},
     "output_type": "execute_result"
    }
   ],
   "source": [
    "list3"
   ]
  },
  {
   "cell_type": "code",
   "execution_count": 56,
   "id": "c07139db",
   "metadata": {},
   "outputs": [],
   "source": [
    "nlist2 = list(ntuple)"
   ]
  },
  {
   "cell_type": "code",
   "execution_count": 58,
   "id": "38f5f414",
   "metadata": {},
   "outputs": [
    {
     "data": {
      "text/plain": [
       "[1, 3, 5, 7, 11]"
      ]
     },
     "execution_count": 58,
     "metadata": {},
     "output_type": "execute_result"
    }
   ],
   "source": [
    "nlist2[4] = 11\n",
    "nlist2"
   ]
  },
  {
   "cell_type": "code",
   "execution_count": 59,
   "id": "c343bf1e",
   "metadata": {},
   "outputs": [
    {
     "data": {
      "text/plain": [
       "(1, 3, 5, 7, 11)"
      ]
     },
     "execution_count": 59,
     "metadata": {},
     "output_type": "execute_result"
    }
   ],
   "source": [
    "tuple(nlist2)"
   ]
  },
  {
   "cell_type": "code",
   "execution_count": 60,
   "id": "48d4de93",
   "metadata": {},
   "outputs": [],
   "source": [
    "list4 = [1,2,4]"
   ]
  },
  {
   "cell_type": "code",
   "execution_count": 61,
   "id": "1b64ac17",
   "metadata": {},
   "outputs": [
    {
     "data": {
      "text/plain": [
       "[1, 2, 4, 6]"
      ]
     },
     "execution_count": 61,
     "metadata": {},
     "output_type": "execute_result"
    }
   ],
   "source": [
    "list4.append(6)\n",
    "list4"
   ]
  },
  {
   "cell_type": "code",
   "execution_count": 62,
   "id": "3a2cdc39",
   "metadata": {},
   "outputs": [
    {
     "data": {
      "text/plain": [
       "[1, 4, 6]"
      ]
     },
     "execution_count": 62,
     "metadata": {},
     "output_type": "execute_result"
    }
   ],
   "source": [
    "del list4[1]\n",
    "list4"
   ]
  },
  {
   "cell_type": "code",
   "execution_count": 66,
   "id": "bef547c5",
   "metadata": {},
   "outputs": [
    {
     "data": {
      "text/plain": [
       "[1, 3]"
      ]
     },
     "execution_count": 66,
     "metadata": {},
     "output_type": "execute_result"
    }
   ],
   "source": [
    "## 슬라이싱\n",
    "list2[0:2]      # 슬라이싱 뒤의 수는 n+1 값이다"
   ]
  },
  {
   "cell_type": "code",
   "execution_count": 65,
   "id": "a485d3ac",
   "metadata": {},
   "outputs": [
    {
     "data": {
      "text/plain": [
       "[5, 7, 9]"
      ]
     },
     "execution_count": 65,
     "metadata": {},
     "output_type": "execute_result"
    }
   ],
   "source": [
    "list2[2:]"
   ]
  },
  {
   "cell_type": "code",
   "execution_count": 68,
   "id": "5bb46fd4",
   "metadata": {},
   "outputs": [
    {
     "data": {
      "text/plain": [
       "[1, 3, 5, 7, 9]"
      ]
     },
     "execution_count": 68,
     "metadata": {},
     "output_type": "execute_result"
    }
   ],
   "source": [
    "list2"
   ]
  },
  {
   "cell_type": "code",
   "execution_count": 67,
   "id": "ddf7bd73",
   "metadata": {},
   "outputs": [
    {
     "data": {
      "text/plain": [
       "[3, 5]"
      ]
     },
     "execution_count": 67,
     "metadata": {},
     "output_type": "execute_result"
    }
   ],
   "source": [
    "list2[-4:-2]"
   ]
  },
  {
   "cell_type": "markdown",
   "id": "e46117eb",
   "metadata": {},
   "source": [
    "### 리스트 컴프리핸션"
   ]
  },
  {
   "cell_type": "code",
   "execution_count": 73,
   "id": "6fc95f9a",
   "metadata": {},
   "outputs": [
    {
     "data": {
      "text/plain": [
       "[0, 1, 2, 3, 4, 5, 6, 7, 8, 9, 10, 11, 12, 13, 14, 15, 16, 17, 18, 19]"
      ]
     },
     "execution_count": 73,
     "metadata": {},
     "output_type": "execute_result"
    }
   ],
   "source": [
    "numbers = [x for x in range(20)]\n",
    "numbers"
   ]
  },
  {
   "cell_type": "code",
   "execution_count": 75,
   "id": "fe84cba7",
   "metadata": {},
   "outputs": [
    {
     "data": {
      "text/plain": [
       "[(0, 0), (0, 1), (0, 2), (1, 0), (1, 1), (1, 2)]"
      ]
     },
     "execution_count": 75,
     "metadata": {},
     "output_type": "execute_result"
    }
   ],
   "source": [
    "catesina_product = [(x, y) for x in range(2) for y in range(3)]\n",
    "catesina_product"
   ]
  },
  {
   "cell_type": "code",
   "execution_count": 76,
   "id": "9bafb977",
   "metadata": {},
   "outputs": [],
   "source": [
    "# 함수가 포함된 리스트 컴프리핸션\n",
    "def square(x):\n",
    "    return x * x"
   ]
  },
  {
   "cell_type": "code",
   "execution_count": 78,
   "id": "b462e5a2",
   "metadata": {},
   "outputs": [
    {
     "data": {
      "text/plain": [
       "[0, 1, 4, 9, 16]"
      ]
     },
     "execution_count": 78,
     "metadata": {},
     "output_type": "execute_result"
    }
   ],
   "source": [
    "squares = [square(x) for x in range(5)]\n",
    "squares"
   ]
  },
  {
   "cell_type": "code",
   "execution_count": 79,
   "id": "27bf065e",
   "metadata": {},
   "outputs": [
    {
     "data": {
      "text/plain": [
       "[0, 1, 4, 9, 16]"
      ]
     },
     "execution_count": 79,
     "metadata": {},
     "output_type": "execute_result"
    }
   ],
   "source": [
    "squares2 = list(map(lambda x: x * x, range(5)))\n",
    "squares2"
   ]
  },
  {
   "cell_type": "code",
   "execution_count": 80,
   "id": "21322610",
   "metadata": {},
   "outputs": [
    {
     "data": {
      "text/plain": [
       "[2, 4, 6, 8, 10]"
      ]
     },
     "execution_count": 80,
     "metadata": {},
     "output_type": "execute_result"
    }
   ],
   "source": [
    "# 조건문\n",
    "even_numbers = [x for x in range(1, 11) if x % 2 == 0]\n",
    "even_numbers"
   ]
  },
  {
   "cell_type": "code",
   "execution_count": 81,
   "id": "ac5cd0fe",
   "metadata": {},
   "outputs": [
    {
     "data": {
      "text/plain": [
       "[-1, 2, -3, 4, -5, 6, -7, 8, -9, 10]"
      ]
     },
     "execution_count": 81,
     "metadata": {},
     "output_type": "execute_result"
    }
   ],
   "source": [
    "wierd_numbers = [x if x % 2 == 0 else -x for x in range(1, 11)]\n",
    "wierd_numbers"
   ]
  },
  {
   "cell_type": "markdown",
   "id": "9404303d",
   "metadata": {},
   "source": [
    "### 딕셔너리\n",
    "- key와 value의 쌍을 저장하는 해시 테이블"
   ]
  },
  {
   "cell_type": "code",
   "execution_count": 82,
   "id": "6418770c",
   "metadata": {},
   "outputs": [],
   "source": [
    "dict1 = {}"
   ]
  },
  {
   "cell_type": "code",
   "execution_count": 83,
   "id": "5e11b00c",
   "metadata": {},
   "outputs": [
    {
     "data": {
      "text/plain": [
       "{'apple': 1, 'samsung': 2, 'lg': 3}"
      ]
     },
     "execution_count": 83,
     "metadata": {},
     "output_type": "execute_result"
    }
   ],
   "source": [
    "dict1[\"apple\"] = 1\n",
    "dict1[\"samsung\"] = 2\n",
    "dict1[\"lg\"] = 3\n",
    "dict1"
   ]
  },
  {
   "cell_type": "code",
   "execution_count": 85,
   "id": "8980e0b3",
   "metadata": {},
   "outputs": [
    {
     "name": "stdout",
     "output_type": "stream",
     "text": [
      "apple: 1\n"
     ]
    }
   ],
   "source": [
    "key = 'apple'\n",
    "if key in dict1:\n",
    "    value = dict1[key]\n",
    "    print(f\"{key}: {value}\")\n",
    "else:\n",
    "    print(\"f{key} doesn't exist\")"
   ]
  },
  {
   "cell_type": "code",
   "execution_count": 86,
   "id": "075dd6a8",
   "metadata": {},
   "outputs": [],
   "source": [
    "dict1['lg'] = 4"
   ]
  },
  {
   "cell_type": "code",
   "execution_count": 87,
   "id": "ae630848",
   "metadata": {},
   "outputs": [],
   "source": [
    "del dict1['lg']"
   ]
  },
  {
   "cell_type": "code",
   "execution_count": 88,
   "id": "69e1d67e",
   "metadata": {},
   "outputs": [
    {
     "data": {
      "text/plain": [
       "{'apple': 1, 'samsung': 2}"
      ]
     },
     "execution_count": 88,
     "metadata": {},
     "output_type": "execute_result"
    }
   ],
   "source": [
    "dict1"
   ]
  },
  {
   "cell_type": "markdown",
   "id": "cd6f31c5",
   "metadata": {},
   "source": [
    "### 셋\n",
    "- 집합, 교집합, 합집합 등 가능"
   ]
  },
  {
   "cell_type": "code",
   "execution_count": 89,
   "id": "b9fa48cc",
   "metadata": {},
   "outputs": [
    {
     "data": {
      "text/plain": [
       "set()"
      ]
     },
     "execution_count": 89,
     "metadata": {},
     "output_type": "execute_result"
    }
   ],
   "source": [
    "# 초기화\n",
    "empty_set = set()\n",
    "empty_set"
   ]
  },
  {
   "cell_type": "code",
   "execution_count": 90,
   "id": "b79be052",
   "metadata": {},
   "outputs": [
    {
     "data": {
      "text/plain": [
       "{1, 2, 3, 5}"
      ]
     },
     "execution_count": 90,
     "metadata": {},
     "output_type": "execute_result"
    }
   ],
   "source": [
    "set([1,2,3,5,3,3,2])    # 집합은 중복 제거"
   ]
  },
  {
   "cell_type": "code",
   "execution_count": 91,
   "id": "7d3d5904",
   "metadata": {},
   "outputs": [
    {
     "data": {
      "text/plain": [
       "{1, 7, 12, 13}"
      ]
     },
     "execution_count": 91,
     "metadata": {},
     "output_type": "execute_result"
    }
   ],
   "source": [
    "set1 = {12, 13, 1, 7, 1}\n",
    "set1"
   ]
  },
  {
   "cell_type": "code",
   "execution_count": null,
   "id": "77e11fc3",
   "metadata": {},
   "outputs": [
    {
     "data": {
      "text/plain": [
       "{' ', 'H', 'W', 'd', 'e', 'l', 'o', 'r'}"
      ]
     },
     "execution_count": 98,
     "metadata": {},
     "output_type": "execute_result"
    }
   ],
   "source": [
    "set2 = set(\"Hello World\")   \n",
    "set2    # ASCII 알파벳 오름차순으로 출력"
   ]
  },
  {
   "cell_type": "code",
   "execution_count": null,
   "id": "2be68edc",
   "metadata": {},
   "outputs": [
    {
     "data": {
      "text/plain": [
       "{2, 4, 6, 8, 10}"
      ]
     },
     "execution_count": 99,
     "metadata": {},
     "output_type": "execute_result"
    }
   ],
   "source": [
    "# Set Comprihension\n",
    "compri_set = {x for x in range(1, 11) if x % 2 == 0}\n",
    "compri_set"
   ]
  },
  {
   "cell_type": "code",
   "execution_count": 112,
   "id": "dade972d",
   "metadata": {},
   "outputs": [],
   "source": [
    "set3 = {1, 3, 5}"
   ]
  },
  {
   "cell_type": "code",
   "execution_count": 113,
   "id": "224af7cf",
   "metadata": {},
   "outputs": [
    {
     "data": {
      "text/plain": [
       "{1, 3, 5, 7}"
      ]
     },
     "execution_count": 113,
     "metadata": {},
     "output_type": "execute_result"
    }
   ],
   "source": [
    "set3.add(7)\n",
    "set3"
   ]
  },
  {
   "cell_type": "code",
   "execution_count": 114,
   "id": "0b0a8ee4",
   "metadata": {},
   "outputs": [
    {
     "data": {
      "text/plain": [
       "{1, 3, 5, 7}"
      ]
     },
     "execution_count": 114,
     "metadata": {},
     "output_type": "execute_result"
    }
   ],
   "source": [
    "set3.add(3)\n",
    "set3"
   ]
  },
  {
   "cell_type": "code",
   "execution_count": 115,
   "id": "fd7f70cc",
   "metadata": {},
   "outputs": [
    {
     "data": {
      "text/plain": [
       "{1, 3, 5, 7, 9, 11}"
      ]
     },
     "execution_count": 115,
     "metadata": {},
     "output_type": "execute_result"
    }
   ],
   "source": [
    "set3.update([9, 11, 1])\n",
    "set3"
   ]
  },
  {
   "cell_type": "code",
   "execution_count": 116,
   "id": "d9778b17",
   "metadata": {},
   "outputs": [
    {
     "data": {
      "text/plain": [
       "{1, 3, 5, 7, 9}"
      ]
     },
     "execution_count": 116,
     "metadata": {},
     "output_type": "execute_result"
    }
   ],
   "source": [
    "set3.remove(11)\n",
    "set3"
   ]
  },
  {
   "cell_type": "code",
   "execution_count": 117,
   "id": "45a80978",
   "metadata": {},
   "outputs": [
    {
     "data": {
      "text/plain": [
       "{1, 3, 5, 7, 9}"
      ]
     },
     "execution_count": 117,
     "metadata": {},
     "output_type": "execute_result"
    }
   ],
   "source": [
    "set3.discard(4)     # set3.remove(4)의 오류 방지\n",
    "set3"
   ]
  },
  {
   "cell_type": "code",
   "execution_count": 118,
   "id": "45119646",
   "metadata": {},
   "outputs": [
    {
     "data": {
      "text/plain": [
       "set()"
      ]
     },
     "execution_count": 118,
     "metadata": {},
     "output_type": "execute_result"
    }
   ],
   "source": [
    "set3.clear()\n",
    "set3"
   ]
  },
  {
   "cell_type": "markdown",
   "id": "b60decf1",
   "metadata": {},
   "source": [
    "#### 합집합"
   ]
  },
  {
   "cell_type": "code",
   "execution_count": 119,
   "id": "1f774c49",
   "metadata": {},
   "outputs": [],
   "source": [
    "set4 = {1,2,3}\n",
    "set5 = {3,4,5}"
   ]
  },
  {
   "cell_type": "code",
   "execution_count": 120,
   "id": "e852816e",
   "metadata": {},
   "outputs": [
    {
     "data": {
      "text/plain": [
       "{1, 2, 3, 4, 5}"
      ]
     },
     "execution_count": 120,
     "metadata": {},
     "output_type": "execute_result"
    }
   ],
   "source": [
    "union_set = set4.union(set5)\n",
    "union_set"
   ]
  },
  {
   "cell_type": "code",
   "execution_count": 121,
   "id": "6599145a",
   "metadata": {},
   "outputs": [
    {
     "data": {
      "text/plain": [
       "{1, 2, 3, 4, 5}"
      ]
     },
     "execution_count": 121,
     "metadata": {},
     "output_type": "execute_result"
    }
   ],
   "source": [
    "set4 |= set5\n",
    "set4"
   ]
  },
  {
   "cell_type": "markdown",
   "id": "e021e200",
   "metadata": {},
   "source": [
    "### 교집합"
   ]
  },
  {
   "cell_type": "code",
   "execution_count": 122,
   "id": "55cbbb19",
   "metadata": {},
   "outputs": [],
   "source": [
    "set4 = {1,2,3}\n",
    "set5 = {3,4,5}"
   ]
  },
  {
   "cell_type": "code",
   "execution_count": 123,
   "id": "4fbf324c",
   "metadata": {},
   "outputs": [
    {
     "data": {
      "text/plain": [
       "{3}"
      ]
     },
     "execution_count": 123,
     "metadata": {},
     "output_type": "execute_result"
    }
   ],
   "source": [
    "intersection_set = set4.intersection(set5)\n",
    "intersection_set"
   ]
  },
  {
   "cell_type": "markdown",
   "id": "6fafeed6",
   "metadata": {},
   "source": [
    "### 차집합"
   ]
  },
  {
   "cell_type": "code",
   "execution_count": 124,
   "id": "c50565c7",
   "metadata": {},
   "outputs": [],
   "source": [
    "set4 = {1,2,3}\n",
    "set5 = {3,4,5}"
   ]
  },
  {
   "cell_type": "code",
   "execution_count": 125,
   "id": "c995081c",
   "metadata": {},
   "outputs": [
    {
     "data": {
      "text/plain": [
       "{1, 2}"
      ]
     },
     "execution_count": 125,
     "metadata": {},
     "output_type": "execute_result"
    }
   ],
   "source": [
    "difference_set = set4.difference(set5)\n",
    "difference_set"
   ]
  },
  {
   "cell_type": "markdown",
   "id": "34b4fd43",
   "metadata": {},
   "source": [
    "### 튜플"
   ]
  },
  {
   "cell_type": "code",
   "execution_count": 126,
   "id": "a32c32a4",
   "metadata": {},
   "outputs": [
    {
     "data": {
      "text/plain": [
       "3"
      ]
     },
     "execution_count": 126,
     "metadata": {},
     "output_type": "execute_result"
    }
   ],
   "source": [
    "tuple7 = (1,2,3)\n",
    "tuple7[2]"
   ]
  },
  {
   "cell_type": "markdown",
   "id": "884e7ad3",
   "metadata": {},
   "source": [
    "### 문자열"
   ]
  },
  {
   "cell_type": "code",
   "execution_count": 128,
   "id": "74846433",
   "metadata": {},
   "outputs": [],
   "source": [
    "string1 = \"Hello World\"\n",
    "string2 = 'Hello World'"
   ]
  },
  {
   "cell_type": "code",
   "execution_count": 130,
   "id": "bf3c723f",
   "metadata": {},
   "outputs": [
    {
     "data": {
      "text/plain": [
       "'Hello'"
      ]
     },
     "execution_count": 130,
     "metadata": {},
     "output_type": "execute_result"
    }
   ],
   "source": [
    "string3 = \"He\"\n",
    "string3 += 'llo'\n",
    "string3"
   ]
  },
  {
   "cell_type": "code",
   "execution_count": 131,
   "id": "c1c4b3fc",
   "metadata": {},
   "outputs": [
    {
     "data": {
      "text/plain": [
       "'Hello'"
      ]
     },
     "execution_count": 131,
     "metadata": {},
     "output_type": "execute_result"
    }
   ],
   "source": [
    "string_list = ['He', 'llo']\n",
    "''.join(string_list)"
   ]
  },
  {
   "cell_type": "code",
   "execution_count": 132,
   "id": "8ece46ad",
   "metadata": {},
   "outputs": [
    {
     "data": {
      "text/plain": [
       "'Heo Word'"
      ]
     },
     "execution_count": 132,
     "metadata": {},
     "output_type": "execute_result"
    }
   ],
   "source": [
    "string2.replace('l', '')"
   ]
  },
  {
   "cell_type": "markdown",
   "id": "a2c69a3c",
   "metadata": {},
   "source": [
    "## 함수\n",
    "\n",
    "### 함수 정의"
   ]
  },
  {
   "cell_type": "code",
   "execution_count": 133,
   "id": "e3e9e15e",
   "metadata": {},
   "outputs": [],
   "source": [
    "def function_name(param1, param2, param3):\n",
    "    # logic\n",
    "    return "
   ]
  },
  {
   "cell_type": "markdown",
   "id": "90dbca23",
   "metadata": {},
   "source": [
    "### 람다식"
   ]
  },
  {
   "cell_type": "code",
   "execution_count": 135,
   "id": "c3536974",
   "metadata": {},
   "outputs": [
    {
     "data": {
      "text/plain": [
       "30"
      ]
     },
     "execution_count": 135,
     "metadata": {},
     "output_type": "execute_result"
    }
   ],
   "source": [
    "multi = lambda x, y : x * y\n",
    "multi(5,6)"
   ]
  },
  {
   "cell_type": "code",
   "execution_count": 136,
   "id": "f4662871",
   "metadata": {},
   "outputs": [
    {
     "data": {
      "text/plain": [
       "[1, 2, 3, 4, 5]"
      ]
     },
     "execution_count": 136,
     "metadata": {},
     "output_type": "execute_result"
    }
   ],
   "source": [
    "nums = [x for x in range(1,6)]\n",
    "nums"
   ]
  },
  {
   "cell_type": "code",
   "execution_count": 138,
   "id": "d70a0a3a",
   "metadata": {},
   "outputs": [
    {
     "data": {
      "text/plain": [
       "[1, 4, 9, 16, 25]"
      ]
     },
     "execution_count": 138,
     "metadata": {},
     "output_type": "execute_result"
    }
   ],
   "source": [
    "squares = list(map(lambda x: x * x, nums))\n",
    "squares"
   ]
  },
  {
   "cell_type": "markdown",
   "id": "bab3e309",
   "metadata": {},
   "source": [
    "## 코테 구현 노하우\n",
    "\n",
    "### 조기 반환"
   ]
  },
  {
   "cell_type": "code",
   "execution_count": 139,
   "id": "e1fb740c",
   "metadata": {},
   "outputs": [],
   "source": [
    "def total_price(quantity, price):\n",
    "    total = quantity * price\n",
    "    if total > 100:\n",
    "        return total * 0.9\n",
    "    \n",
    "    return total"
   ]
  },
  {
   "cell_type": "code",
   "execution_count": 140,
   "id": "1c3a9d4c",
   "metadata": {},
   "outputs": [
    {
     "data": {
      "text/plain": [
       "98"
      ]
     },
     "execution_count": 140,
     "metadata": {},
     "output_type": "execute_result"
    }
   ],
   "source": [
    "total_price(2, 49)"
   ]
  },
  {
   "cell_type": "code",
   "execution_count": 141,
   "id": "3b7a621a",
   "metadata": {},
   "outputs": [
    {
     "data": {
      "text/plain": [
       "180.0"
      ]
     },
     "execution_count": 141,
     "metadata": {},
     "output_type": "execute_result"
    }
   ],
   "source": [
    "total_price(4, 50)"
   ]
  },
  {
   "cell_type": "markdown",
   "id": "3f6ee6d1",
   "metadata": {},
   "source": [
    "### 보호구문\n",
    "- Validation Check"
   ]
  },
  {
   "cell_type": "code",
   "execution_count": 143,
   "id": "96728277",
   "metadata": {},
   "outputs": [],
   "source": [
    "def cal_avg(numbers):\n",
    "    if numbers is None:\n",
    "        return None     # 값이 없으면 예외처리, C 기법\n",
    "    \n",
    "    if not isinstance(numbers, list):   # 값이 리스트가 아니면 종료\n",
    "        return None\n",
    "    \n",
    "    if len(numbers) == 0:   # 값의 길이가 0이면\n",
    "        return None\n",
    "    \n",
    "    total = sum(numbers)\n",
    "    average = total / len(numbers)\n",
    "    return average"
   ]
  },
  {
   "cell_type": "markdown",
   "id": "a3a460a4",
   "metadata": {},
   "source": [
    "- 코테 소스에는 최대한 예외처리(try ~ except)를 사용하지 말 것\n",
    "- 예외처리 구문에서 예외가 발생하면 속도가 느려지기 때문에"
   ]
  },
  {
   "cell_type": "markdown",
   "id": "84feb90c",
   "metadata": {},
   "source": [
    "### 합성함수\n",
    "- 2개 이상의 함수를 활용하여 추가로 함수를 만드는 방법"
   ]
  },
  {
   "cell_type": "code",
   "execution_count": 144,
   "id": "82d50f59",
   "metadata": {},
   "outputs": [],
   "source": [
    "def add_three(x):\n",
    "    return x + 3\n",
    "\n",
    "def square(x):\n",
    "    return x * x"
   ]
  },
  {
   "cell_type": "code",
   "execution_count": 145,
   "id": "a9109700",
   "metadata": {},
   "outputs": [
    {
     "data": {
      "text/plain": [
       "36"
      ]
     },
     "execution_count": 145,
     "metadata": {},
     "output_type": "execute_result"
    }
   ],
   "source": [
    "# 합성함수\n",
    "composed_function = lambda x : square(add_three(x))\n",
    "composed_function(3)    # (3 + 3)^2 = 36"
   ]
  }
 ],
 "metadata": {
  "kernelspec": {
   "display_name": "3.11.9",
   "language": "python",
   "name": "python3"
  },
  "language_info": {
   "codemirror_mode": {
    "name": "ipython",
    "version": 3
   },
   "file_extension": ".py",
   "mimetype": "text/x-python",
   "name": "python",
   "nbconvert_exporter": "python",
   "pygments_lexer": "ipython3",
   "version": "3.11.9"
  }
 },
 "nbformat": 4,
 "nbformat_minor": 5
}
