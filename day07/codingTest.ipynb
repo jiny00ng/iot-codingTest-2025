{
 "cells": [
  {
   "cell_type": "markdown",
   "id": "dc4074c5",
   "metadata": {},
   "source": [
    "## 프로그래머스 코딩테스트\n",
    "\n",
    "### 코드 챌린지 1차 예선 \n",
    "\n",
    "#### 지게차와 크레인\n",
    "- https://school.programmers.co.kr/learn/courses/30/lessons/388353"
   ]
  },
  {
   "cell_type": "code",
   "execution_count": 4,
   "id": "3d2649ad",
   "metadata": {},
   "outputs": [],
   "source": [
    "from collections import deque\n",
    "\n",
    "def solution(storage, requests):\n",
    "    n, m = len(storage), len(storage[0])\n",
    "    \n",
    "    # 창고를 1-indexed로 만들기 위해 외곽에 빈 문자열로 패딩 추가\n",
    "    board = [[''] * (m + 2) for _ in range(n + 2)]\n",
    "    for i in range(n):\n",
    "        for j in range(m):\n",
    "            board[i + 1][j + 1] = storage[i][j]\n",
    "\n",
    "    # 지게차 요청 시 외부와 연결된 빈 공간에서 시작해 target 컨테이너를 찾는 BFS 함수\n",
    "    def bfs_and_mark(target):\n",
    "        visited = [[False] * (m + 2) for _ in range(n + 2)]\n",
    "        q = deque()\n",
    "        q.append((0, 0))  # 외부 시작점 (패딩된 영역)\n",
    "        visited[0][0] = True\n",
    "        remove_coords = []  # 제거할 좌표들\n",
    "\n",
    "        while q:\n",
    "            x, y = q.popleft()\n",
    "            # 상하좌우 탐색\n",
    "            for dx, dy in [(-1,0), (1,0), (0,-1), (0,1)]:\n",
    "                nx, ny = x + dx, y + dy\n",
    "\n",
    "                if 0 <= nx < n + 2 and 0 <= ny < m + 2 and not visited[nx][ny]:\n",
    "                    visited[nx][ny] = True\n",
    "                    if board[nx][ny] == '':  # 빈 공간이면 BFS 계속 진행\n",
    "                        q.append((nx, ny))\n",
    "                    elif board[nx][ny] == target:\n",
    "                        # 외부와 맞닿아 있는 target 컨테이너면 제거 대상\n",
    "                        remove_coords.append((nx, ny))\n",
    "        return remove_coords\n",
    "\n",
    "    # 요청 처리\n",
    "    for req in requests:\n",
    "        target = req[0]\n",
    "\n",
    "        if len(req) == 2:\n",
    "            # 크레인 요청: 해당 알파벳 컨테이너 모두 제거\n",
    "            for i in range(1, n + 1):\n",
    "                for j in range(1, m + 1):\n",
    "                    if board[i][j] == target:\n",
    "                        board[i][j] = ''\n",
    "        else:\n",
    "            # 지게차 요청: 외부와 연결된 target 컨테이너만 제거\n",
    "            to_remove = bfs_and_mark(target)\n",
    "            for i, j in to_remove:\n",
    "                board[i][j] = ''\n",
    "\n",
    "    # 남아 있는 컨테이너 개수 세기\n",
    "    remaining = 0\n",
    "    for i in range(1, n + 1):\n",
    "        for j in range(1, m + 1):\n",
    "            if board[i][j] != '':\n",
    "                remaining += 1\n",
    "\n",
    "    return remaining\n"
   ]
  },
  {
   "cell_type": "code",
   "execution_count": 5,
   "id": "99d56b06",
   "metadata": {},
   "outputs": [
    {
     "data": {
      "text/plain": [
       "11"
      ]
     },
     "execution_count": 5,
     "metadata": {},
     "output_type": "execute_result"
    }
   ],
   "source": [
    "solution([\"AZWQY\", \"CAABX\", \"BBDDA\", \"ACACA\"], [\"A\", \"BB\", \"A\"])"
   ]
  },
  {
   "cell_type": "code",
   "execution_count": 6,
   "id": "1bfa69d9",
   "metadata": {},
   "outputs": [
    {
     "data": {
      "text/plain": [
       "4"
      ]
     },
     "execution_count": 6,
     "metadata": {},
     "output_type": "execute_result"
    }
   ],
   "source": [
    "solution([\"HAH\", \"HBH\", \"HHH\", \"HAH\", \"HBH\"], [\"C\", \"B\", \"B\", \"B\", \"B\", \"H\"])"
   ]
  },
  {
   "cell_type": "markdown",
   "id": "b1b638c5",
   "metadata": {},
   "source": [
    "<img src=\"../image/ct0015.png\" width=\"900\">"
   ]
  }
 ],
 "metadata": {
  "kernelspec": {
   "display_name": "3.11.9",
   "language": "python",
   "name": "python3"
  },
  "language_info": {
   "codemirror_mode": {
    "name": "ipython",
    "version": 3
   },
   "file_extension": ".py",
   "mimetype": "text/x-python",
   "name": "python",
   "nbconvert_exporter": "python",
   "pygments_lexer": "ipython3",
   "version": "3.11.9"
  }
 },
 "nbformat": 4,
 "nbformat_minor": 5
}
