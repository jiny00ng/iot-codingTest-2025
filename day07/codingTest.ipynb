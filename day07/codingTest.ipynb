{
 "cells": [
  {
   "cell_type": "markdown",
   "id": "dc4074c5",
   "metadata": {},
   "source": [
    "## 프로그래머스 코딩테스트\n",
    "\n",
    "### 코드 챌린지 1차 예선 \n",
    "\n",
    "#### 지게차와 크레인\n",
    "- https://school.programmers.co.kr/learn/courses/30/lessons/388353"
   ]
  },
  {
   "cell_type": "code",
   "execution_count": 33,
   "id": "3d2649ad",
   "metadata": {},
   "outputs": [],
   "source": [
    "def solution(storage, requests):\n",
    "    n = len(storage)\n",
    "    m = len(storage[0])\n",
    "    board = [list(row) for row in storage]\n",
    "\n",
    "    dx = [1, -1, 0, 0]\n",
    "    dy = [0, 0, 1, -1]\n",
    "\n",
    "    def in_range(x, y):\n",
    "        return 0 <= x < n and 0 <= y < m\n",
    "\n",
    "    def forklift(target):\n",
    "        to_remove = set()\n",
    "        for i in range(n):\n",
    "            for j in range(m):\n",
    "                if board[i][j] != target:\n",
    "                    continue\n",
    "\n",
    "                # 먼저 4방향에 .이 있는지 확인\n",
    "                found = False\n",
    "                for dir in range(4):\n",
    "                    ni, nj = i + dx[dir], j + dy[dir]\n",
    "                    if in_range(ni, nj) and board[ni][nj] == '.':\n",
    "                        found = True\n",
    "                        break\n",
    "\n",
    "                # 가장자리 or 인접한 . 존재하면 제거\n",
    "                if found or i == 0 or i == n - 1 or j == 0 or j == m - 1:\n",
    "                    to_remove.add((i, j))\n",
    "\n",
    "        for x, y in to_remove:\n",
    "            board[x][y] = '.'\n",
    "\n",
    "\n",
    "    for req in requests:\n",
    "        target = req[0]\n",
    "        if len(req) == 2:\n",
    "            for i in range(n):\n",
    "                for j in range(m):\n",
    "                    if board[i][j] == target:\n",
    "                        board[i][j] = '.'\n",
    "        else:\n",
    "            forklift(target)\n",
    "\n",
    "    return sum(1 for i in range(n) for j in range(m) if board[i][j] != '.')\n"
   ]
  },
  {
   "cell_type": "code",
   "execution_count": 34,
   "id": "99d56b06",
   "metadata": {},
   "outputs": [
    {
     "data": {
      "text/plain": [
       "10"
      ]
     },
     "execution_count": 34,
     "metadata": {},
     "output_type": "execute_result"
    }
   ],
   "source": [
    "solution([\"AZWQY\", \"CAABX\", \"BBDDA\", \"ACACA\"], [\"A\", \"BB\", \"A\"])"
   ]
  },
  {
   "cell_type": "code",
   "execution_count": 35,
   "id": "1bfa69d9",
   "metadata": {},
   "outputs": [
    {
     "data": {
      "text/plain": [
       "4"
      ]
     },
     "execution_count": 35,
     "metadata": {},
     "output_type": "execute_result"
    }
   ],
   "source": [
    "solution([\"HAH\", \"HBH\", \"HHH\", \"HAH\", \"HBH\"], [\"C\", \"B\", \"B\", \"B\", \"B\", \"H\"])"
   ]
  }
 ],
 "metadata": {
  "kernelspec": {
   "display_name": "3.11.9",
   "language": "python",
   "name": "python3"
  },
  "language_info": {
   "codemirror_mode": {
    "name": "ipython",
    "version": 3
   },
   "file_extension": ".py",
   "mimetype": "text/x-python",
   "name": "python",
   "nbconvert_exporter": "python",
   "pygments_lexer": "ipython3",
   "version": "3.11.9"
  }
 },
 "nbformat": 4,
 "nbformat_minor": 5
}
